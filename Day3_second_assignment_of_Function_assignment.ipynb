{
  "nbformat": 4,
  "nbformat_minor": 0,
  "metadata": {
    "colab": {
      "provenance": [],
      "include_colab_link": true
    },
    "kernelspec": {
      "name": "python3",
      "display_name": "Python 3"
    },
    "language_info": {
      "name": "python"
    }
  },
  "cells": [
    {
      "cell_type": "markdown",
      "metadata": {
        "id": "view-in-github",
        "colab_type": "text"
      },
      "source": [
        "<a href=\"https://colab.research.google.com/github/Sonuthahreen/Python/blob/main/Day3_second_assignment_of_Function_assignment.ipynb\" target=\"_parent\"><img src=\"https://colab.research.google.com/assets/colab-badge.svg\" alt=\"Open In Colab\"/></a>"
      ]
    },
    {
      "cell_type": "markdown",
      "source": [
        "## Write a python program to crate a lambda funciotn that adds 15 to a given numebr\n"
      ],
      "metadata": {
        "id": "Cu2MTBpAH98v"
      }
    },
    {
      "cell_type": "code",
      "source": [
        "add_15 = lambda x: x + 15\n",
        "input_number = float(input(\"Enter a number: \"))\n",
        "result = add_15(input_number)\n",
        "print(f\"Result after adding 15: {result}\")"
      ],
      "metadata": {
        "id": "ERMc1QfnIYgd"
      },
      "execution_count": null,
      "outputs": []
    },
    {
      "cell_type": "markdown",
      "source": [
        "## Write a funciton to create a prime number generator"
      ],
      "metadata": {
        "id": "QvheE-ZfIJFc"
      }
    },
    {
      "cell_type": "code",
      "source": [
        "def prime_generator():\n",
        "    \"\"\"Generate prime numbers indefinitely.\"\"\"\n",
        "    num = 2\n",
        "    while True:\n",
        "        is_prime = all(num % i != 0 for i in range(2, int(num**0.5) + 1))\n",
        "        if is_prime:\n",
        "            yield num\n",
        "        num += 1\n",
        "\n",
        "prime_gen = prime_generator()\n",
        "for _ in range(5):\n",
        "    print(next(prime_gen))"
      ],
      "metadata": {
        "id": "z19r-AaMIIlC",
        "colab": {
          "base_uri": "https://localhost:8080/"
        },
        "outputId": "6f0a2120-c5c1-46c8-f72c-04c9f7afaef7"
      },
      "execution_count": 1,
      "outputs": [
        {
          "output_type": "stream",
          "name": "stdout",
          "text": [
            "2\n",
            "3\n",
            "5\n",
            "7\n",
            "11\n"
          ]
        }
      ]
    },
    {
      "cell_type": "markdown",
      "source": [
        "## Create a lambda funtion to filter out the even numebr from a given list"
      ],
      "metadata": {
        "id": "fgG1qcgaIZKL"
      }
    },
    {
      "cell_type": "code",
      "source": [
        "numbers = [1, 2, 3, 4, 5, 6, 7, 8, 9, 10]\n",
        "\n",
        "# Lambda function to filter even numbers\n",
        "filtered_numbers = list(filter(lambda x: x % 2 == 0, numbers))\n",
        "\n",
        "print(filtered_numbers)"
      ],
      "metadata": {
        "colab": {
          "base_uri": "https://localhost:8080/"
        },
        "id": "BYwcP3vUZRcn",
        "outputId": "8e1de124-7b70-4254-c5b5-521364b6256c"
      },
      "execution_count": null,
      "outputs": [
        {
          "output_type": "stream",
          "name": "stdout",
          "text": [
            "[2, 4, 6, 8, 10]\n"
          ]
        }
      ]
    },
    {
      "cell_type": "markdown",
      "source": [
        "## Create a funciton for prime numebr generator"
      ],
      "metadata": {
        "id": "c1H7iXqDIuJI"
      }
    },
    {
      "cell_type": "code",
      "source": [
        "def is_prime(num):\n",
        "    \"\"\"Check if a number is prime.\"\"\"\n",
        "    if num < 2:\n",
        "        return False\n",
        "    for i in range(2, int(num**0.5) + 1):\n",
        "        if num % i == 0:\n",
        "            return False\n",
        "    return True\n",
        "\n",
        "def prime_generator(limit):\n",
        "    \"\"\"Generate prime numbers up to a given limit.\"\"\"\n",
        "    primes = []\n",
        "    num = 2\n",
        "    while num < limit:\n",
        "        if is_prime(num):\n",
        "            primes.append(num)\n",
        "        num += 1\n",
        "    return primes\n",
        "\n",
        "# Example usage:\n",
        "# Generate and print prime numbers up to 20\n",
        "limit = 20\n",
        "result = prime_generator(limit)\n",
        "print(f\"Prime numbers up to {limit}: {result}\")"
      ],
      "metadata": {
        "id": "B6zt1ESKI2T4"
      },
      "execution_count": null,
      "outputs": []
    },
    {
      "cell_type": "markdown",
      "source": [
        "## create funciton for fibbonacci series generator"
      ],
      "metadata": {
        "id": "NMp0TAZaI18z"
      }
    },
    {
      "cell_type": "code",
      "source": [
        "def fibonacci_generator():\n",
        "    a, b = 0, 1\n",
        "    while True:\n",
        "        yield a\n",
        "        a, b = b, a + b\n",
        "\n",
        "\n",
        "fibonacci = fibonacci_generator()\n",
        "for _ in range(10):\n",
        "    print(next(fibonacci))"
      ],
      "metadata": {
        "id": "dpa2ABE8JCnt",
        "colab": {
          "base_uri": "https://localhost:8080/"
        },
        "outputId": "a30614ba-3aea-4fde-f94a-128eb6068b24"
      },
      "execution_count": null,
      "outputs": [
        {
          "output_type": "stream",
          "name": "stdout",
          "text": [
            "0\n",
            "1\n",
            "1\n",
            "2\n",
            "3\n",
            "5\n",
            "8\n",
            "13\n",
            "21\n",
            "34\n"
          ]
        }
      ]
    }
  ]
}