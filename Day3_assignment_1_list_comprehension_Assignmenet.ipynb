{
  "nbformat": 4,
  "nbformat_minor": 0,
  "metadata": {
    "colab": {
      "provenance": [],
      "include_colab_link": true
    },
    "kernelspec": {
      "name": "python3",
      "display_name": "Python 3"
    },
    "language_info": {
      "name": "python"
    }
  },
  "cells": [
    {
      "cell_type": "markdown",
      "metadata": {
        "id": "view-in-github",
        "colab_type": "text"
      },
      "source": [
        "<a href=\"https://colab.research.google.com/github/Sonuthahreen/Python/blob/main/Day3_assignment_1_list_comprehension_Assignmenet.ipynb\" target=\"_parent\"><img src=\"https://colab.research.google.com/assets/colab-badge.svg\" alt=\"Open In Colab\"/></a>"
      ]
    },
    {
      "cell_type": "markdown",
      "source": [],
      "metadata": {
        "id": "KZ91_NegViLz"
      }
    },
    {
      "cell_type": "markdown",
      "source": [
        "## problem 1\n",
        "Create a dictionary where the keys correspond to the area of a flat adn value for each is the price of the house for 10 flat in kompally"
      ],
      "metadata": {
        "id": "B1Fhdmi9V3LI"
      }
    },
    {
      "cell_type": "code",
      "source": [
        "# Dictionary of house area and house prices of 10 houses in\n",
        "area_price = {'Flat1': 1000, 'Flat2': 1200, 'Flat3': 900, 'Flat4': 1100, 'Flat5': 950,\n",
        "              'Flat6': 1300, 'Flat7': 800, 'Flat8': 1150, 'Flat9': 1050, 'Flat10': 1250}"
      ],
      "metadata": {
        "id": "zihWmw3NWXQX"
      },
      "execution_count": null,
      "outputs": []
    },
    {
      "cell_type": "markdown",
      "source": [
        "### Now broker predicts the price as can be written as : <b><code>predicted_price(area) = 0.06*area + 15</code></b>"
      ],
      "metadata": {
        "id": "JI2jaDf8Wp2D"
      }
    },
    {
      "cell_type": "code",
      "source": [
        "def predicted_price(area):\n",
        "    return 0.06 * area + 15"
      ],
      "metadata": {
        "id": "SMmwl2fLFMfP"
      },
      "execution_count": null,
      "outputs": []
    },
    {
      "cell_type": "markdown",
      "source": [
        "Using the concept of list comprehension,create a list of predicted flat price using the above formula\n"
      ],
      "metadata": {
        "id": "v_K_Z8dtW6-D"
      }
    },
    {
      "cell_type": "code",
      "source": [
        "\n",
        "\n",
        "# Create a list of house areas\n",
        "predicted_prices = [predicted_price(area) for area in area_price.values()]\n",
        "\n",
        "# Print the list of predicted flat prices\n",
        "print(\"List of predicted flat prices:\", predicted_prices)\n",
        "\n",
        "# Create a list of actual house prices\n",
        "actual_prices = list(area_price.values())"
      ],
      "metadata": {
        "id": "F732P6DHXVYH",
        "colab": {
          "base_uri": "https://localhost:8080/"
        },
        "outputId": "f592769e-af49-430f-b76a-f41c206c66f5"
      },
      "execution_count": null,
      "outputs": [
        {
          "output_type": "stream",
          "name": "stdout",
          "text": [
            "List of predicted flat prices: [75.0, 87.0, 69.0, 81.0, 72.0, 93.0, 63.0, 84.0, 78.0, 90.0]\n"
          ]
        }
      ]
    },
    {
      "cell_type": "markdown",
      "source": [
        "## Create another list which contains the squares of differences of each element of the two price lists : the actual prices and the predicted prices\n"
      ],
      "metadata": {
        "id": "-ZrRO78DXZq6"
      }
    },
    {
      "cell_type": "code",
      "source": [
        "squared_differences = [(actual - predicted) ** 2 for actual, predicted in zip(actual_prices, predicted_prices)]\n",
        "print(\"List of squared differences:\", squared_differences)"
      ],
      "metadata": {
        "id": "dEpxZqK7XzeD",
        "colab": {
          "base_uri": "https://localhost:8080/"
        },
        "outputId": "b5352704-c0c1-431d-968a-bcf273d76c6a"
      },
      "execution_count": null,
      "outputs": [
        {
          "output_type": "stream",
          "name": "stdout",
          "text": [
            "List of squared differences: [855625.0, 1238769.0, 690561.0, 1038361.0, 770884.0, 1456849.0, 543169.0, 1136356.0, 944784.0, 1345600.0]\n"
          ]
        }
      ]
    },
    {
      "cell_type": "markdown",
      "source": [
        "## <u> Problem 2</u>\n",
        "\n",
        "## A sigmoid function is a mathematical function having a characteristic \"S\"-shaped curve or sigmoid curve. A common example of a sigmoid function is the logistic function shown in the first figure and defined by the formula:\n",
        "\n",
        "$$ h(x) =  \\frac{\\mathrm{1} }{\\mathrm{1} + e^{-x} }  $$\n",
        "\n",
        "\n",
        "## Range is defined as all the possible values which the function $h(x)$ can take. Domain is defined as all the possible values which $x$ can take. In this case, range of the function is between 0 to 1 and the domain of the function is all real numbers"
      ],
      "metadata": {
        "id": "PEC_OtXRXrCg"
      }
    },
    {
      "cell_type": "markdown",
      "source": [
        "### You are given a list of values of $x$. You need to use list comprehension to calculate the corresponding transformation according to the sigmoid function defined above"
      ],
      "metadata": {
        "id": "YZCTres_XsB0"
      }
    },
    {
      "cell_type": "code",
      "source": [
        "# Sigmoid function\n",
        "sigmoid = lambda x: 1 / (1 + 2.71828 ** -x)\n",
        "\n",
        "# Given list of values of x\n",
        "x_values = [-2, -1, 0, 1, 2]\n",
        "\n",
        "# List comprehension to calculate sigmoid transformation for each x\n",
        "sigmoid_values = [sigmoid(x) for x in x_values]\n",
        "\n",
        "# List comprehension for boolean values based on sigmoid range\n",
        "boolean_values = [(0 <= sigmoid_x <= 1) for sigmoid_x in sigmoid_values]\n",
        "\n",
        "# List comprehension for values greater than 0.5\n",
        "greater_than_half = [sigmoid_x for sigmoid_x in sigmoid_values if sigmoid_x > 0.5]\n",
        "\n",
        "# Print the results\n",
        "print(\"Sigmoid values:\", sigmoid_values)\n",
        "print(\"Boolean values:\", boolean_values)\n",
        "print(\"Values greater than 0.5:\", greater_than_half)"
      ],
      "metadata": {
        "colab": {
          "base_uri": "https://localhost:8080/"
        },
        "id": "x2hkm0-gF1kQ",
        "outputId": "c3f64dcd-0ad5-46d5-fdc7-ba642d4c725b"
      },
      "execution_count": null,
      "outputs": [
        {
          "output_type": "stream",
          "name": "stdout",
          "text": [
            "Sigmoid values: [0.11920306327063111, 0.26894155362156696, 0.5, 0.731058446378433, 0.880796936729369]\n",
            "Boolean values: [True, True, True, True, True]\n",
            "Values greater than 0.5: [0.731058446378433, 0.880796936729369]\n"
          ]
        }
      ]
    },
    {
      "cell_type": "markdown",
      "source": [
        "# <u> Problem 3</u>\n",
        "\n",
        "## You are given a sentence : <code>\"I have been walking and running and dancing and smiling and laughing all my life, yet it all seems pointless. So i stoped thinking and started doing\"</code>\n",
        "\n",
        "## You are required to extract all those words from this sentence in a list which ends with <code>ing</code>"
      ],
      "metadata": {
        "id": "j31JnVUtYNU-"
      }
    },
    {
      "cell_type": "code",
      "source": [
        "# Your sentence\n",
        "my_sentence =\"I have been walking and running and dancing and smiling and laughing all my life, yet it all seems pointless. So i stopped thinking and started doing\"\n",
        "\n",
        "words = my_sentence.split()\n",
        "res = [word.strip(\",.\") for word in words if word.endswith(\"ing\")]\n",
        "\n",
        "print(res)"
      ],
      "metadata": {
        "colab": {
          "base_uri": "https://localhost:8080/"
        },
        "id": "_Ccv1yECGBBJ",
        "outputId": "e365a314-ad18-489a-a505-814ac608fcf0"
      },
      "execution_count": null,
      "outputs": [
        {
          "output_type": "stream",
          "name": "stdout",
          "text": [
            "['walking', 'running', 'dancing', 'smiling', 'laughing', 'thinking', 'doing']\n"
          ]
        }
      ]
    },
    {
      "cell_type": "markdown",
      "source": [
        "# <u> Problem 4</u>\n",
        "\n",
        "#### Natural Language Processing or NLP is one of the most promising fields in Machine Learning. Most of the times in NLP we deal with the textual data (a bunch of strings). Sometimes when we are processing the text, it is a common practice to get rid of some set of stop words from our original text. By default stop words are very common words used in English language such as and, or, punctuations etc.\n",
        "\n",
        "#### In this exercise, you are provided with a default set of stop words and you need to add some extra set of custom words and remove these words from the given sentence and obtain the sentence without the stop words"
      ],
      "metadata": {
        "id": "rYwInhGlYOyz"
      }
    },
    {
      "cell_type": "code",
      "source": [
        "# A sample sentence\n",
        "sen=\"The sun hung low in the sky, casting long shadows across the rolling hills. Birds chirped merrily as they flitted from tree to tree, their songs filling the air with joy. A gentle breeze rustled the leaves, carrying with it the sweet scent of wildflowers. In the distance, a river meandered lazily through the valley, its waters shimmering in the golden light. Along its banks, tall grasses swayed in the wind, whispering secrets to the passing clouds. The world seemed to pause in that moment, as if holding its breath in anticipation of something magical. And indeed, there was magic all around, woven into the very fabric of nature itself. Each blade of grass, each petal of a flower, seemed to dance with life, imbued with a sense of wonder and awe. It was a scene straight out of a fairy tale, where dreams and reality intertwined in a beautiful tapestry of existence.\"\n",
        "# Print your sentence\n",
        "print(sen)"
      ],
      "metadata": {
        "colab": {
          "base_uri": "https://localhost:8080/"
        },
        "id": "23K7Vc68GKIF",
        "outputId": "143e0d47-496d-4386-ca05-b7f8efdd4766"
      },
      "execution_count": null,
      "outputs": [
        {
          "output_type": "stream",
          "name": "stdout",
          "text": [
            "The sun hung low in the sky, casting long shadows across the rolling hills. Birds chirped merrily as they flitted from tree to tree, their songs filling the air with joy. A gentle breeze rustled the leaves, carrying with it the sweet scent of wildflowers. In the distance, a river meandered lazily through the valley, its waters shimmering in the golden light. Along its banks, tall grasses swayed in the wind, whispering secrets to the passing clouds. The world seemed to pause in that moment, as if holding its breath in anticipation of something magical. And indeed, there was magic all around, woven into the very fabric of nature itself. Each blade of grass, each petal of a flower, seemed to dance with life, imbued with a sense of wonder and awe. It was a scene straight out of a fairy tale, where dreams and reality intertwined in a beautiful tapestry of existence.\n"
          ]
        }
      ]
    },
    {
      "cell_type": "code",
      "source": [
        "# Default set of stop words\n",
        "stop_words = {\"i\", \"me\", \"my\", \"myself\", \"we\", \"our\", \"ours\", \"ourselves\", \"you\", \"your\", \"yours\", \"yourself\",\n",
        "              \"yourselves\", \"he\", \"him\", \"his\", \"himself\", \"she\", \"her\", \"hers\", \"herself\", \"it\", \"its\", \"itself\",\n",
        "              \"they\", \"them\", \"their\", \"theirs\", \"themselves\", \"what\", \"which\", \"who\", \"whom\", \"this\", \"that\",\n",
        "              \"these\", \"those\", \"am\", \"is\", \"are\", \"was\", \"were\", \"be\", \"been\", \"being\", \"have\", \"has\", \"had\",\n",
        "              \"having\", \"do\", \"does\", \"did\", \"doing\", \"a\", \"an\", \"the\", \"and\", \"but\", \"if\", \"or\", \"because\",\n",
        "              \"as\", \"until\", \"while\", \"of\", \"at\", \"by\", \"for\", \"with\", \"about\", \"against\", \"between\", \"into\",\n",
        "              \"through\", \"during\", \"before\", \"after\", \"above\", \"below\", \"to\", \"from\", \"up\", \"down\", \"in\", \"out\",\n",
        "              \"on\", \"off\", \"over\", \"under\", \"again\", \"further\", \"then\", \"once\", \"here\", \"there\", \"when\", \"where\",\n",
        "              \"why\", \"how\", \"all\", \"any\", \"both\", \"each\", \"few\", \"more\", \"most\", \"other\", \"some\", \"such\", \"no\",\n",
        "              \"nor\", \"not\", \"only\", \"own\", \"same\", \"so\", \"than\", \"too\", \"very\", \"s\", \"t\", \"can\", \"will\", \"just\",\n",
        "              \"don\", \"should\", \"now\"}"
      ],
      "metadata": {
        "id": "RbyJscXWYh0z"
      },
      "execution_count": null,
      "outputs": []
    },
    {
      "cell_type": "code",
      "source": [
        "\n",
        "custom_stop_words = {\"hello\",\"folks\",\"good\",\"morning\",\"half\",\"year\"}\n",
        "stop = stop_words.union(custom_stop_words)\n",
        "print(stop_words)"
      ],
      "metadata": {
        "colab": {
          "base_uri": "https://localhost:8080/"
        },
        "id": "HZtsiBT4GdbF",
        "outputId": "6d037dce-cc6d-42af-9653-31c527f20b9d"
      },
      "execution_count": null,
      "outputs": [
        {
          "output_type": "stream",
          "name": "stdout",
          "text": [
            "{'the', 'their', 'by', 'again', 'he', 'did', 'during', 'now', 'for', 'while', 'such', 's', 'some', 'a', 'just', 'how', 'from', 'each', 'not', 'this', 'themselves', 'but', 'these', 'to', 'only', 'doing', 'them', 'have', 'out', 'been', 'our', 'herself', 'are', 'further', 'once', 'yourself', 'no', 'after', 'am', 'above', 'about', 't', 'where', 'more', 'is', 'yours', 'and', 'under', 'your', 'both', 'ourselves', 'him', 'can', 'before', 'you', 'at', 'theirs', 'will', 'who', 'same', 'there', 'that', 'which', 'into', 'down', 'through', 'whom', 'hers', 'those', 'until', 'she', 'we', 'below', 'it', 'its', 'itself', 'then', 'does', 'if', 'they', 'up', 'should', 'do', 'me', 'my', 'were', 'against', 'in', 'any', 'when', 'yourselves', 'be', 'because', 'most', 'on', 'than', 'very', 'being', 'what', 'i', 'having', 'of', 'too', 'had', 'an', 'own', 'other', 'few', 'nor', 'himself', 'was', 'why', 'over', 'has', 'here', 'his', 'between', 'her', 'so', 'as', 'don', 'myself', 'off', 'or', 'with', 'all', 'ours'}\n"
          ]
        }
      ]
    },
    {
      "cell_type": "code",
      "source": [
        "# Create the list of words in the given sentence.\n",
        "a = sen.split()"
      ],
      "metadata": {
        "id": "5jXlKTILGnpX"
      },
      "execution_count": null,
      "outputs": []
    },
    {
      "cell_type": "code",
      "source": [
        "# Use list comprehension to remove the set of updated stop words from the list of words\n",
        "b = [word for word in a if word.lower() not in stop]"
      ],
      "metadata": {
        "id": "jPNK8nK3Gq7M"
      },
      "execution_count": null,
      "outputs": []
    },
    {
      "cell_type": "code",
      "source": [
        "# Finally using the join() method, get the sentence without the stop words. Keep in mind that every word in the sentence will be separated by space\n",
        "new_sen = ' '.join(b)\n",
        "\n",
        "# Print the modified sentence\n",
        "print(new_sen)"
      ],
      "metadata": {
        "colab": {
          "base_uri": "https://localhost:8080/"
        },
        "id": "jQvvkOpGGwAJ",
        "outputId": "c6b20233-ff0c-4bf6-8047-69a8f35ba200"
      },
      "execution_count": null,
      "outputs": [
        {
          "output_type": "stream",
          "name": "stdout",
          "text": [
            "sun hung low sky, casting long shadows across rolling hills. Birds chirped merrily flitted tree tree, songs filling air joy. gentle breeze rustled leaves, carrying sweet scent wildflowers. distance, river meandered lazily valley, waters shimmering golden light. Along banks, tall grasses swayed wind, whispering secrets passing clouds. world seemed pause moment, holding breath anticipation something magical. indeed, magic around, woven fabric nature itself. blade grass, petal flower, seemed dance life, imbued sense wonder awe. scene straight fairy tale, dreams reality intertwined beautiful tapestry existence.\n"
          ]
        }
      ]
    }
  ]
}