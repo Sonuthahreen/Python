{
  "nbformat": 4,
  "nbformat_minor": 0,
  "metadata": {
    "colab": {
      "provenance": [],
      "include_colab_link": true
    },
    "kernelspec": {
      "name": "python3",
      "display_name": "Python 3"
    },
    "language_info": {
      "name": "python"
    }
  },
  "cells": [
    {
      "cell_type": "markdown",
      "metadata": {
        "id": "view-in-github",
        "colab_type": "text"
      },
      "source": [
        "<a href=\"https://colab.research.google.com/github/Sonuthahreen/Python/blob/main/Day_2_of_data_structure.ipynb\" target=\"_parent\"><img src=\"https://colab.research.google.com/assets/colab-badge.svg\" alt=\"Open In Colab\"/></a>"
      ]
    },
    {
      "cell_type": "markdown",
      "source": [
        "## 1.Difference between the list and tuple?"
      ],
      "metadata": {
        "id": "HN6tCq60j2mQ"
      }
    },
    {
      "cell_type": "code",
      "source": [
        "#The difference between a list and a tuple in Python is that lists are mutable (can be changed),\n",
        "#while tuples are immutable (cannot be changed after creation).\n",
        "#You can add, remove, or modify elements in a list,\n",
        "#but once a tuple is created, its elements cannot be altered.\n",
        "#Lists are defined with square brackets [], and tuples use parentheses ()."
      ],
      "metadata": {
        "id": "Cw8ffkhMk6RQ"
      },
      "execution_count": null,
      "outputs": []
    },
    {
      "cell_type": "code",
      "source": [
        "#example code for tuple\n",
        "tuple = (4, 5, 'hello', 'world')\n",
        "print(tuple)\n",
        "#we can't add or modify tuple because it's immutable\n",
        "\n",
        "# Accessing elements here the output will be hello because in python indexing starts with 0\n",
        "element = tuple[2]\n",
        "print(element)\n",
        "\n",
        "# Combining tuples\n",
        "new_tuple = tuple + (8, 9)\n",
        "print(new_tuple)"
      ],
      "metadata": {
        "colab": {
          "base_uri": "https://localhost:8080/"
        },
        "id": "rSyNnTZI_0QE",
        "outputId": "022e85b9-2e86-419f-ffce-cf8092e2f94e"
      },
      "execution_count": null,
      "outputs": [
        {
          "output_type": "stream",
          "name": "stdout",
          "text": [
            "(4, 5, 'hello', 'world')\n",
            "hello\n",
            "(4, 5, 'hello', 'world', 8, 9)\n"
          ]
        }
      ]
    },
    {
      "cell_type": "code",
      "source": [
        "#example code for list\n",
        "list = ['hello', 'world']\n",
        "print(list)\n",
        "\n",
        "# Adding an element\n",
        "list.append('birbleai')\n",
        "\n",
        "# Modifying an element\n",
        "list[0] = 100\n",
        "\n",
        "# Removing an element\n",
        "list.remove('world')\n",
        "\n",
        "print(list)"
      ],
      "metadata": {
        "colab": {
          "base_uri": "https://localhost:8080/"
        },
        "id": "kajvfvmvA3gt",
        "outputId": "62c96383-15a4-401a-a289-159a636a292d"
      },
      "execution_count": null,
      "outputs": [
        {
          "output_type": "stream",
          "name": "stdout",
          "text": [
            "['hello', 'world']\n",
            "[100, 'birbleai']\n"
          ]
        }
      ]
    },
    {
      "cell_type": "markdown",
      "source": [
        "## 2.How list is different from an array"
      ],
      "metadata": {
        "id": "uWhJG7hzk6Ov"
      }
    },
    {
      "cell_type": "code",
      "source": [
        "#the difference between the array and list is\n",
        "#The list is built in data type and mutable which can be changed\n",
        "#And the array is the part of numpy library which have fixed size  they can't be changed"
      ],
      "metadata": {
        "id": "MowyCcINo4Mn"
      },
      "execution_count": null,
      "outputs": []
    },
    {
      "cell_type": "code",
      "source": [
        "#example code for list\n",
        "list=[1,2,3,4]\n",
        "print(list)\n",
        "#example code for array\n",
        "import numpy as np\n",
        "\n",
        "array = np.array([1, 2, 3, 4, 5])"
      ],
      "metadata": {
        "colab": {
          "base_uri": "https://localhost:8080/"
        },
        "id": "3_iMmh21Caqk",
        "outputId": "164ac454-b480-4004-baac-4c09906f8864"
      },
      "execution_count": null,
      "outputs": [
        {
          "output_type": "stream",
          "name": "stdout",
          "text": [
            "[1, 2, 3, 4]\n"
          ]
        }
      ]
    },
    {
      "cell_type": "markdown",
      "source": [
        "## 3. Use the python list append(),copy(), clear, count, extends(), index(), insert(), pop(), reverse(), sort(), min(), max(),and sum()"
      ],
      "metadata": {
        "id": "_0Rn7JQSk6M1"
      }
    },
    {
      "cell_type": "code",
      "source": [
        "\n",
        "list = [1,2,3,4,5,6]\n",
        "\n",
        "# append(): Add an element to the end of the list\n",
        "list.append(8)\n",
        "print(\"append():\", list)\n",
        "\n",
        "# copy():\n",
        "copy_list = list.copy()\n",
        "print(\"copy():\", copy_list)\n",
        "\n",
        "# clear(): Removing all elements from the list\n",
        "list.clear()\n",
        "print(\"clear():\", list)\n",
        "\n",
        "# count(): checking the occurrence of elements in list\n",
        "occurrences = copy_list.count(5)\n",
        "print(\"count(5):\", occurrences)\n",
        "\n",
        "# extend():\n",
        "extension = [7, 8, 9]\n",
        "copy_list.extend(extension)\n",
        "print(\"extend():\", copy_list)\n",
        "\n",
        "# index(): Find the index of the first occurrence of a specific element\n",
        "index_of_2= copy_list.index(2)\n",
        "print(\"index(2):\", index_of_2)\n",
        "\n",
        "# insert(): Insert an element at a specific position\n",
        "copy_list.insert(4, 99)\n",
        "print(\"insert(4, 99):\", copy_list)\n",
        "\n",
        "# pop(): Remove and return the last element  or a specific element\n",
        "popped_element = copy_list.pop()\n",
        "print(\"pop():\", popped_element, copy_list)\n",
        "\n",
        "# reverse(): Reverse the order of elements in the list\n",
        "copy_list.reverse()\n",
        "print(\"reverse():\", copy_list)\n",
        "\n",
        "# sort(): Sort the elements of the list\n",
        "copy_list.sort()\n",
        "print(\"sort():\", copy_list)\n",
        "\n",
        "# min():\n",
        "minimum_value = min(copy_list)\n",
        "print(\"min():\", minimum_value)\n",
        "\n",
        "# max():\n",
        "maximum_value = max(copy_list)\n",
        "print(\"max():\", maximum_value)\n",
        "\n",
        "# sum():\n",
        "sum_of_elements = sum(copy_list)\n",
        "print(\"sum():\", sum_of_elements)"
      ],
      "metadata": {
        "colab": {
          "base_uri": "https://localhost:8080/"
        },
        "id": "Cmx8qFGoDHrH",
        "outputId": "2f09b205-53aa-4bc3-d0a7-e0690e84f23a"
      },
      "execution_count": null,
      "outputs": [
        {
          "output_type": "stream",
          "name": "stdout",
          "text": [
            "append(): [1, 2, 3, 4, 5, 6, 8]\n",
            "copy(): [1, 2, 3, 4, 5, 6, 8]\n",
            "clear(): []\n",
            "count(5): 1\n",
            "extend(): [1, 2, 3, 4, 5, 6, 8, 7, 8, 9]\n",
            "index(2): 1\n",
            "insert(4, 99): [1, 2, 3, 4, 99, 5, 6, 8, 7, 8, 9]\n",
            "pop(): 9 [1, 2, 3, 4, 99, 5, 6, 8, 7, 8]\n",
            "reverse(): [8, 7, 8, 6, 5, 99, 4, 3, 2, 1]\n",
            "sort(): [1, 2, 3, 4, 5, 6, 7, 8, 8, 99]\n",
            "min(): 1\n",
            "max(): 99\n",
            "sum(): 143\n"
          ]
        }
      ]
    },
    {
      "cell_type": "markdown",
      "source": [
        "## 4, How would you divide the list into two parts?"
      ],
      "metadata": {
        "id": "W9xfjUWak6J_"
      }
    },
    {
      "cell_type": "code",
      "source": [
        "#to divide list in two parts we use slicing\n",
        "# Creating a sample list\n",
        "list = [1, 2, 3, 4, 5, 6, 7, 8, 9, 10]\n",
        "\n",
        "split_index = 5\n",
        "first_part = list[:split_index]\n",
        "second_part = list[split_index:]\n",
        "print(\"First Part:\", first_part)\n",
        "print(\"Second Part:\", second_part)"
      ],
      "metadata": {
        "colab": {
          "base_uri": "https://localhost:8080/"
        },
        "id": "StObuLU8Fxuj",
        "outputId": "110e04e8-f357-4ba9-c37a-db01c5f1e0f7"
      },
      "execution_count": null,
      "outputs": [
        {
          "output_type": "stream",
          "name": "stdout",
          "text": [
            "First Part: [1, 2, 3, 4, 5]\n",
            "Second Part: [6, 7, 8, 9, 10]\n"
          ]
        }
      ]
    },
    {
      "cell_type": "markdown",
      "source": [
        "## 5. how to filter the multiple of 3 from a given list and them remove the odd number from the new filtered list.\n",
        "Eg A = [1,2,3,4,5,6,7,8,9,21,23,24]\n",
        "Filter_lsit = [3,6,9,21,24]\n",
        "output_list = [6,24]"
      ],
      "metadata": {
        "id": "Qb1mVGfnk6G5"
      }
    },
    {
      "cell_type": "code",
      "source": [
        "# Given list\n",
        "A = [1, 2, 3, 4, 5, 6, 7, 8, 9, 21, 23, 24]\n",
        "\n",
        "filtered_list = [num for num in A if num % 3 == 0]\n",
        "\n",
        "\n",
        "output_list = [num for num in filtered_list if num % 2 == 0]\n",
        "\n",
        "print(\"Filtered List (Multiples of 3):\", filtered_list)\n",
        "print(\"Output List (Even Numbers from Filtered List):\", output_list)"
      ],
      "metadata": {
        "colab": {
          "base_uri": "https://localhost:8080/"
        },
        "id": "NkPZJg5mHFsw",
        "outputId": "f890a6db-364f-449e-b458-5a00351e0b5e"
      },
      "execution_count": null,
      "outputs": [
        {
          "output_type": "stream",
          "name": "stdout",
          "text": [
            "Filtered List (Multiples of 3): [3, 6, 9, 21, 24]\n",
            "Output List (Even Numbers from Filtered List): [6, 24]\n"
          ]
        }
      ]
    },
    {
      "cell_type": "markdown",
      "source": [
        "## 6. How you can access keys and values simultaneously and update its value"
      ],
      "metadata": {
        "id": "auhYyjixk6FD"
      }
    },
    {
      "cell_type": "code",
      "source": [
        "a = {'a': 1, 'b': 2, 'c': 3, 'd': 4}\n",
        "\n",
        "for key, value in a.items():\n",
        "    print(f\"Key: {key}, Value: {value}\")\n",
        "for key, value in a.items():\n",
        "    if value % 2 == 0:\n",
        "        a[key] = value * 2\n",
        "    else:\n",
        "      a[key]=value * 3\n",
        "print(\"Updated Dictionary:\", a)"
      ],
      "metadata": {
        "id": "Fq2ivqW3IqSJ",
        "outputId": "7334b150-c788-436b-c962-8e7137199f4b",
        "colab": {
          "base_uri": "https://localhost:8080/"
        }
      },
      "execution_count": null,
      "outputs": [
        {
          "output_type": "stream",
          "name": "stdout",
          "text": [
            "Key: a, Value: 1\n",
            "Key: b, Value: 2\n",
            "Key: c, Value: 3\n",
            "Key: d, Value: 4\n",
            "Updated Dictionary: {'a': 3, 'b': 4, 'c': 9, 'd': 8}\n"
          ]
        }
      ]
    },
    {
      "cell_type": "markdown",
      "source": [
        "## 7. Write python program to join, merge, concatente the two dictionaries..\n"
      ],
      "metadata": {
        "id": "vV00n0awk5_G"
      }
    },
    {
      "cell_type": "code",
      "source": [
        "#we can use update() to join,merge 2 dictionaries\n",
        "dict1 = {'a': 1, 'b': 2, 'c': 3}\n",
        "dict2 = {'c': 4, 'd': 5, 'e': 6}\n",
        "merged_dict1.update(dict2)\n",
        "print(\"Merged Dictionary 1:\", merged_dict1)"
      ],
      "metadata": {
        "colab": {
          "base_uri": "https://localhost:8080/"
        },
        "id": "lCH_XCmmJRPH",
        "outputId": "3ee7bdfe-4f9a-432e-c152-f68710ccbc3b"
      },
      "execution_count": null,
      "outputs": [
        {
          "output_type": "stream",
          "name": "stdout",
          "text": [
            "Merged Dictionary 1: {'a': 1, 'b': 2, 'c': 4, 'd': 5, 'e': 6}\n"
          ]
        }
      ]
    },
    {
      "cell_type": "markdown",
      "source": [
        "## 8. How would you check a specific keys from the dictionary??\n"
      ],
      "metadata": {
        "id": "Z_7dpypWnQ-z"
      }
    },
    {
      "cell_type": "code",
      "source": [
        "#we use in to check\n",
        "dict = {'a': 1, 'b': 2, 'c': 3, 'd': 4}\n",
        "\n",
        "\n",
        "checking_dict= 'b'\n",
        "\n",
        "if checking_dict in dict:\n",
        "    print(f\"The key '{checking_dict}' exists in the dictionary with value: {dict[checking_dict]}\")\n",
        "else:\n",
        "    print(f\"The key '{checking_dict}' does not exist in the dictionary.\")"
      ],
      "metadata": {
        "colab": {
          "base_uri": "https://localhost:8080/"
        },
        "id": "Amvb9v8pK_kU",
        "outputId": "cbae6526-f263-4ebd-8b11-04b0be4c03d8"
      },
      "execution_count": null,
      "outputs": [
        {
          "output_type": "stream",
          "name": "stdout",
          "text": [
            "The key 'b' exists in the dictionary with value: 2\n"
          ]
        }
      ]
    },
    {
      "cell_type": "markdown",
      "source": [
        "## 9. write a python program to find the unique vowel present in the sentence"
      ],
      "metadata": {
        "id": "EjxeB4ntnirH"
      }
    },
    {
      "cell_type": "code",
      "source": [
        "\n",
        "sentence = input(\"Enter a sentence: \")\n",
        "\n",
        "\n",
        "unique_vowels= set(char.lower() for char in sentence if char.lower() in \"aeiou\")\n",
        "\n",
        "print(\"Unique vowels in the sentence:\", unique_vowels)"
      ],
      "metadata": {
        "colab": {
          "base_uri": "https://localhost:8080/"
        },
        "id": "i1WcUh0UL9S8",
        "outputId": "a9f0037c-d5a7-4122-9645-4118d8d75051"
      },
      "execution_count": null,
      "outputs": [
        {
          "output_type": "stream",
          "name": "stdout",
          "text": [
            "Enter a sentence: Hello world \n",
            "Unique vowels in the sentence: {'e', 'o'}\n"
          ]
        }
      ]
    },
    {
      "cell_type": "markdown",
      "source": [
        "## 10. We know that tuple is immutable, do any thing and add element to the tuples."
      ],
      "metadata": {
        "id": "B1VBImcfns6V"
      }
    },
    {
      "cell_type": "code",
      "source": [
        "tup1 = (1,3)\n",
        "tup2 = (5,7)\n",
        "\n",
        "new_tuple = tup1 + tup2\n",
        "print(new_tuple)\n",
        "#we can conncate two tuples for new tuple"
      ],
      "metadata": {
        "colab": {
          "base_uri": "https://localhost:8080/"
        },
        "id": "dd185beiMqo3",
        "outputId": "e8f927f8-a11e-4a1f-d5a5-b9018bbd9cd1"
      },
      "execution_count": null,
      "outputs": [
        {
          "output_type": "stream",
          "name": "stdout",
          "text": [
            "(1, 3, 5, 7)\n"
          ]
        }
      ]
    },
    {
      "cell_type": "markdown",
      "source": [
        "## 11. How would you sum the list of tuple and sum of tuple of list\n",
        "list  = [(2,3),(4,5),(6,4)]\n",
        "output= [5,9,10]\n",
        "\n",
        "tuple  =([2,3],[4,5],[6,4])\n",
        "output  =  (5,9,10)"
      ],
      "metadata": {
        "id": "Yd7tDQHuoGFm"
      }
    },
    {
      "cell_type": "code",
      "source": [
        "\n",
        "list_of_tuples = [(2, 3), (4, 5), (6, 4)]\n",
        "\n",
        "\n",
        "result_list = [sum(t) for t in list_of_tuples]\n",
        "\n",
        "print(result_list)"
      ],
      "metadata": {
        "colab": {
          "base_uri": "https://localhost:8080/"
        },
        "id": "6kMGaPFAN1OH",
        "outputId": "bd3a5088-50a1-4886-f772-be328cf93470"
      },
      "execution_count": null,
      "outputs": [
        {
          "output_type": "stream",
          "name": "stdout",
          "text": [
            "[5, 9, 10]\n"
          ]
        }
      ]
    },
    {
      "cell_type": "markdown",
      "source": [
        "## 12. FIND THE FREQUENCY OF THE KEYS IN THE GIVEN DICTIONARY"
      ],
      "metadata": {
        "id": "YiXg_vDpoq7X"
      }
    },
    {
      "cell_type": "code",
      "source": [
        "dict = {'a': 2, 'b': 3, 'c': 2, 'd': 3, 'e': 2, 'f': 4}\n",
        "\n",
        "frequencies = {}\n",
        "for value in dict.values():\n",
        "    if value in frequencies:\n",
        "        frequencies[value] += 1\n",
        "    else:\n",
        "         frequencies[value] = 1\n",
        "\n",
        "for value, frequency in frequencies.items():\n",
        "    print(f\"The frequency of value {value} is: {frequency}\")"
      ],
      "metadata": {
        "id": "imafkPuHOta3",
        "colab": {
          "base_uri": "https://localhost:8080/"
        },
        "outputId": "d555077e-a9a4-4240-a6f5-d8ad1daf0ca9"
      },
      "execution_count": null,
      "outputs": [
        {
          "output_type": "stream",
          "name": "stdout",
          "text": [
            "The frequency of value 2 is: 3\n",
            "The frequency of value 3 is: 2\n",
            "The frequency of value 4 is: 1\n"
          ]
        }
      ]
    }
  ]
}