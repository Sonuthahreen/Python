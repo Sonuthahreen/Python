{
  "nbformat": 4,
  "nbformat_minor": 0,
  "metadata": {
    "colab": {
      "provenance": [],
      "authorship_tag": "ABX9TyMPB9XUJxLPdzmDC0w8DuAs",
      "include_colab_link": true
    },
    "kernelspec": {
      "name": "python3",
      "display_name": "Python 3"
    },
    "language_info": {
      "name": "python"
    }
  },
  "cells": [
    {
      "cell_type": "markdown",
      "metadata": {
        "id": "view-in-github",
        "colab_type": "text"
      },
      "source": [
        "<a href=\"https://colab.research.google.com/github/Sonuthahreen/Python/blob/main/Day_1.ipynb\" target=\"_parent\"><img src=\"https://colab.research.google.com/assets/colab-badge.svg\" alt=\"Open In Colab\"/></a>"
      ]
    },
    {
      "cell_type": "code",
      "execution_count": null,
      "metadata": {
        "id": "jVpTlo_XT83m"
      },
      "outputs": [],
      "source": [
        "#1 how would you confirm that two strings have the same identi"
      ]
    },
    {
      "cell_type": "code",
      "source": [
        "#To confirm if two strings have the same identity in Python, you can use the is operator:"
      ],
      "metadata": {
        "id": "JQZI424gU8Zv"
      },
      "execution_count": null,
      "outputs": []
    },
    {
      "cell_type": "code",
      "source": [
        "string1 = \"hello world\"\n",
        "string2 = \"hello world\"\n",
        "\n",
        "if string1 is string2:\n",
        "    print(\"The strings have the same identity.\")\n",
        "else:\n",
        "    print(\"The strings do not have the same identity.\")"
      ],
      "metadata": {
        "colab": {
          "base_uri": "https://localhost:8080/"
        },
        "id": "7z66lQx5VJKK",
        "outputId": "984ce353-01ac-4cc1-8e8d-6ac98521809f"
      },
      "execution_count": null,
      "outputs": [
        {
          "output_type": "stream",
          "name": "stdout",
          "text": [
            "The strings do not have the same identity.\n"
          ]
        }
      ]
    },
    {
      "cell_type": "code",
      "source": [
        "#2How to find the length and index of the string?"
      ],
      "metadata": {
        "id": "ms-R0AsZVpcm"
      },
      "execution_count": null,
      "outputs": []
    },
    {
      "cell_type": "code",
      "source": [
        "String='hello world'\n",
        "len(String)"
      ],
      "metadata": {
        "colab": {
          "base_uri": "https://localhost:8080/"
        },
        "id": "50GJt5E9V0XJ",
        "outputId": "dd1a32c1-9731-4013-95e3-c74cb1489633"
      },
      "execution_count": null,
      "outputs": [
        {
          "output_type": "execute_result",
          "data": {
            "text/plain": [
              "11"
            ]
          },
          "metadata": {},
          "execution_count": 3
        }
      ]
    },
    {
      "cell_type": "code",
      "source": [
        "#3how to check a string contain a specific substring"
      ],
      "metadata": {
        "id": "eo0A3yQiWaVK"
      },
      "execution_count": null,
      "outputs": []
    },
    {
      "cell_type": "code",
      "source": [
        "mainstring = \"Hello, world\"\n",
        "substring = \"world\"\n",
        "\n",
        "if mainstring.find(substring) != -1:\n",
        "    print(\"Substring found in the main string.\")\n",
        "else:\n",
        "    print(\"Substring not found in the main string.\")"
      ],
      "metadata": {
        "colab": {
          "base_uri": "https://localhost:8080/"
        },
        "id": "c83W0_mDWhcI",
        "outputId": "8eb6c7b8-d1a9-4031-c34f-73381e77da3b"
      },
      "execution_count": null,
      "outputs": [
        {
          "output_type": "stream",
          "name": "stdout",
          "text": [
            "Substring found in the main string.\n"
          ]
        }
      ]
    },
    {
      "cell_type": "code",
      "source": [
        "#4how to a take a string from backward with two step difference?"
      ],
      "metadata": {
        "id": "YrTWtsCJXe-i"
      },
      "execution_count": null,
      "outputs": []
    },
    {
      "cell_type": "code",
      "source": [
        "string = \"helloworld\"\n",
        "\n",
        "result= string[::-2]\n",
        "\n",
        "print(result)"
      ],
      "metadata": {
        "colab": {
          "base_uri": "https://localhost:8080/"
        },
        "id": "a3glx9EZXldA",
        "outputId": "de380ee6-89fd-4d98-a14c-39085092ddf0"
      },
      "execution_count": null,
      "outputs": [
        {
          "output_type": "stream",
          "name": "stdout",
          "text": [
            "drwle\n"
          ]
        }
      ]
    },
    {
      "cell_type": "code",
      "source": [
        "#5how to find the index of the last element"
      ],
      "metadata": {
        "id": "82lJ0BvBYO6U"
      },
      "execution_count": null,
      "outputs": []
    },
    {
      "cell_type": "code",
      "source": [
        "String='hello world'\n",
        "len(string)-1"
      ],
      "metadata": {
        "colab": {
          "base_uri": "https://localhost:8080/"
        },
        "id": "DI5Onff2ZPAf",
        "outputId": "cee20a06-ae53-492b-f1f8-3026b6d9d639"
      },
      "execution_count": null,
      "outputs": [
        {
          "output_type": "execute_result",
          "data": {
            "text/plain": [
              "9"
            ]
          },
          "metadata": {},
          "execution_count": 8
        }
      ]
    },
    {
      "cell_type": "code",
      "source": [
        "#6Write 2 ways to concatenate the string"
      ],
      "metadata": {
        "id": "KX7u0_dvaBY3"
      },
      "execution_count": null,
      "outputs": []
    },
    {
      "cell_type": "code",
      "source": [
        "string1 = \"Hello\"\n",
        "string2 = \" World\"\n",
        "result = string1 + string2\n",
        "print(result)"
      ],
      "metadata": {
        "colab": {
          "base_uri": "https://localhost:8080/"
        },
        "id": "RykmT6dAaUgD",
        "outputId": "9a371489-6771-4ced-a843-52a93dae4f28"
      },
      "execution_count": null,
      "outputs": [
        {
          "output_type": "stream",
          "name": "stdout",
          "text": [
            "Hello World\n"
          ]
        }
      ]
    },
    {
      "cell_type": "code",
      "source": [
        "string1=\"hello\"\n",
        "string2=\"world\"\n",
        "string1 + '4' + string2"
      ],
      "metadata": {
        "colab": {
          "base_uri": "https://localhost:8080/",
          "height": 35
        },
        "id": "FIg3pMy3ajm1",
        "outputId": "af48a875-8672-4ba3-a9f2-c2310448eee0"
      },
      "execution_count": null,
      "outputs": [
        {
          "output_type": "execute_result",
          "data": {
            "text/plain": [
              "'hello4world'"
            ],
            "application/vnd.google.colaboratory.intrinsic+json": {
              "type": "string"
            }
          },
          "metadata": {},
          "execution_count": 13
        }
      ]
    }
  ]
}